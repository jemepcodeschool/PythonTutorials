{
  "nbformat": 4,
  "nbformat_minor": 0,
  "metadata": {
    "colab": {
      "provenance": []
    },
    "kernelspec": {
      "name": "python3",
      "display_name": "Python 3"
    },
    "language_info": {
      "name": "python"
    }
  },
  "cells": [
    {
      "cell_type": "markdown",
      "source": [
        "Sets"
      ],
      "metadata": {
        "id": "B-hwNelmhOOo"
      }
    },
    {
      "cell_type": "code",
      "execution_count": 2,
      "metadata": {
        "colab": {
          "base_uri": "https://localhost:8080/"
        },
        "id": "7V0yVs0ShKjY",
        "outputId": "68b72c2c-c9f8-4089-80d9-92570bbdbfb9"
      },
      "outputs": [
        {
          "output_type": "stream",
          "name": "stdout",
          "text": [
            "{'jon', 'sam', 'mykel'}\n"
          ]
        }
      ],
      "source": [
        "# Defining a set\n",
        "names_of_students_set = {\"jon\", \"mykel\", \"sam\"}\n",
        "\n",
        "print(names_of_students_set)"
      ]
    },
    {
      "cell_type": "code",
      "execution_count": 4,
      "metadata": {
        "id": "n2zDI6jYikaj"
      },
      "outputs": [],
      "source": [
        "# Sets are unindexed\n",
        "names_of_students_set = {\"jon\", \"mykel\", \"sam\"}\n",
        "\n",
        "#print(names_of_students_set[1])"
      ]
    },
    {
      "cell_type": "code",
      "execution_count": 7,
      "metadata": {
        "colab": {
          "base_uri": "https://localhost:8080/"
        },
        "outputId": "acfa6a2c-9ef3-4a27-a03b-d92eac99c95b",
        "id": "_xQcJlahiyQ3"
      },
      "outputs": [
        {
          "output_type": "stream",
          "name": "stdout",
          "text": [
            "{'jon', 'sam', 'mykel'}\n",
            "['jon', 'mykel', 'sam', 'jon']\n"
          ]
        }
      ],
      "source": [
        "# Adding a value to a set is similar to adding a value to a list\n",
        "\n",
        "names_of_students_set = {\"jon\", \"mykel\", \"sam\"}\n",
        "\n",
        "names_of_students_set.add(\"jon\")\n",
        "\n",
        "#names_of_students_list = [\"jon\", \"mykel\", \"sam\"]\n",
        "\n",
        "#names_of_students_list.append(\"jon\")\n",
        "\n",
        "print(names_of_students_set)\n",
        "#print(names_of_students_list)"
      ]
    },
    {
      "cell_type": "code",
      "execution_count": 12,
      "metadata": {
        "colab": {
          "base_uri": "https://localhost:8080/"
        },
        "outputId": "dddaad73-7fe8-48c4-ad8b-6a5466fd84a4",
        "id": "V6K28tMhjh3u"
      },
      "outputs": [
        {
          "output_type": "stream",
          "name": "stdout",
          "text": [
            "{'mykel'}\n"
          ]
        }
      ],
      "source": [
        "# You can pop a value of a set\n",
        "\n",
        "names_of_students_set = {\"jon\", \"mykel\", \"sam\"}\n",
        "\n",
        "names_of_students_set.pop()\n",
        "names_of_students_set.pop()\n",
        "\n",
        "print(names_of_students_set)"
      ]
    },
    {
      "cell_type": "code",
      "execution_count": 19,
      "metadata": {
        "colab": {
          "base_uri": "https://localhost:8080/"
        },
        "outputId": "a46d1569-b729-42ba-b179-e2affb309749",
        "id": "7aNl-5fpkptP"
      },
      "outputs": [
        {
          "output_type": "stream",
          "name": "stdout",
          "text": [
            "{'jon', 'mykel', 'sam', 'bob', 'alice'}\n"
          ]
        }
      ],
      "source": [
        "# Update the values in a set\n",
        "\n",
        "names_of_students_set = {\"jon\", \"mykel\", \"sam\"}\n",
        "\n",
        "names_of_students_set.update([\"bob\", \"alice\"])\n",
        "\n",
        "print(names_of_students_set)"
      ]
    },
    {
      "cell_type": "code",
      "execution_count": 22,
      "metadata": {
        "colab": {
          "base_uri": "https://localhost:8080/"
        },
        "outputId": "920e8171-188e-4118-8948-047c7e0bb46e",
        "id": "xwK3k4CTlh4W"
      },
      "outputs": [
        {
          "output_type": "stream",
          "name": "stdout",
          "text": [
            "{'sam', 'mykel'}\n"
          ]
        }
      ],
      "source": [
        "# Remove values from a set using the remove keyword\n",
        "\n",
        "names_of_students_set = {\"jon\", \"mykel\", \"sam\"}\n",
        "\n",
        "names_of_students_set.remove(\"jon\")\n",
        "\n",
        "#names_of_students_set.remove(\"bob\") will not work use discard\n",
        "\n",
        "print(names_of_students_set)"
      ]
    },
    {
      "cell_type": "code",
      "execution_count": 23,
      "metadata": {
        "colab": {
          "base_uri": "https://localhost:8080/"
        },
        "outputId": "b4043abd-e973-4105-80d1-a8901ddea719",
        "id": "qTQrY7qtmJKH"
      },
      "outputs": [
        {
          "output_type": "stream",
          "name": "stdout",
          "text": [
            "{'jon', 'sam', 'mykel'}\n"
          ]
        }
      ],
      "source": [
        "# Discard can remove a value whether or not it actually exist in the set\n",
        "\n",
        "names_of_students_set = {\"jon\", \"mykel\", \"sam\"}\n",
        "\n",
        "#names_of_students_set.remove(\"jon\")\n",
        "\n",
        "names_of_students_set.discard(\"bob\")\n",
        "\n",
        "print(names_of_students_set)"
      ]
    },
    {
      "cell_type": "code",
      "source": [
        "# A set can converted to a list\n",
        "\n",
        "names_of_students_list = [\"jon\", \"mykel\", \"sam\"]\n",
        "\n",
        "names_of_students_set_converted = set((\"jon\", \"mykel\", \"sam\"))\n",
        "\n",
        "print(type(names_of_students_set_converted))"
      ],
      "metadata": {
        "colab": {
          "base_uri": "https://localhost:8080/"
        },
        "id": "0fnrUW-CmfnG",
        "outputId": "d0095aad-3061-4457-bd36-474c41525fa8"
      },
      "execution_count": 33,
      "outputs": [
        {
          "output_type": "stream",
          "name": "stdout",
          "text": [
            "<class 'set'>\n"
          ]
        }
      ]
    },
    {
      "cell_type": "markdown",
      "source": [
        "Tuples"
      ],
      "metadata": {
        "id": "lteMW03tnl-c"
      }
    },
    {
      "cell_type": "code",
      "source": [
        "# Defining a tuple\n",
        "\n",
        "names_of_students_tuple = (\"jon\", \"sam\", \"mykel\")\n",
        "\n",
        "print(type(names_of_students_tuple))"
      ],
      "metadata": {
        "colab": {
          "base_uri": "https://localhost:8080/"
        },
        "id": "iWutKyjQnrM9",
        "outputId": "e56943f6-3784-4c25-eb27-0cbae320e1cf"
      },
      "execution_count": 35,
      "outputs": [
        {
          "output_type": "stream",
          "name": "stdout",
          "text": [
            "<class 'tuple'>\n"
          ]
        }
      ]
    },
    {
      "cell_type": "code",
      "source": [
        "# Converting a tuple to a list to manipulate\n",
        "\n",
        "names_of_students_tuple = (\"jon\", \"sam\", \"mykel\")\n",
        "\n",
        "names_of_students_tuple_list = list(names_of_students_tuple)\n",
        "\n",
        "names_of_students_tuple_list.append(\"lol\")\n",
        "\n",
        "print(names_of_students_tuple_list)"
      ],
      "metadata": {
        "colab": {
          "base_uri": "https://localhost:8080/"
        },
        "outputId": "12325dc7-7ae0-4a2a-9f56-7e1f0847d07f",
        "id": "jnY3-oJ7oBK-"
      },
      "execution_count": 43,
      "outputs": [
        {
          "output_type": "stream",
          "name": "stdout",
          "text": [
            "['jon', 'sam', 'mykel', 'sam']\n"
          ]
        }
      ]
    },
    {
      "cell_type": "code",
      "source": [
        "# Converting a list to a tuple\n",
        "names_of_students_tuple_list_converted = tuple(names_of_students_tuple_list)\n",
        "\n",
        "print(type(names_of_students_tuple_list_converted))"
      ],
      "metadata": {
        "colab": {
          "base_uri": "https://localhost:8080/"
        },
        "outputId": "09d832e9-8ef7-4bcd-f755-57a8e9dc096f",
        "id": "Ed6u7KhupOd9"
      },
      "execution_count": 42,
      "outputs": [
        {
          "output_type": "stream",
          "name": "stdout",
          "text": [
            "<class 'tuple'>\n"
          ]
        }
      ]
    },
    {
      "cell_type": "code",
      "source": [
        "# Adding a tuple to a tuple \n",
        "print(names_of_students_tuple_list_converted + names_of_students_tuple)"
      ],
      "metadata": {
        "colab": {
          "base_uri": "https://localhost:8080/"
        },
        "id": "N00Zf88fpsz4",
        "outputId": "23700cb7-4852-4beb-dabb-63ad3fab54df"
      },
      "execution_count": 44,
      "outputs": [
        {
          "output_type": "stream",
          "name": "stdout",
          "text": [
            "('jon', 'sam', 'mykel', 'lol', 'jon', 'sam', 'mykel')\n"
          ]
        }
      ]
    },
    {
      "cell_type": "code",
      "source": [
        "# Adding two tuples to create a new tuple\n",
        "\n",
        "teachers = (\"bob\", \"alice\")\n",
        "\n",
        "new_teacher = (\"peter\",) # A single element tuple\n",
        "\n",
        "all_teachers = teachers + new_teacher\n",
        "\n",
        "print(all_teachers)"
      ],
      "metadata": {
        "colab": {
          "base_uri": "https://localhost:8080/"
        },
        "id": "x_qWJmxbqEio",
        "outputId": "3a8117e1-200e-4b68-c3dd-c717e3153b10"
      },
      "execution_count": 47,
      "outputs": [
        {
          "output_type": "stream",
          "name": "stdout",
          "text": [
            "('bob', 'alice', 'peter')\n"
          ]
        }
      ]
    },
    {
      "cell_type": "code",
      "source": [
        "# Unpacking a tuple\n",
        "\n",
        "teachers = (\"bob\", \"alice\")\n",
        "\n",
        "new_teacher = (\"peter\",)\n",
        "\n",
        "all_teachers = teachers + new_teacher\n",
        "\n",
        "math_teacher, phys_teacher, eng_teacher = all_teachers\n",
        "\n",
        "print(eng_teacher)"
      ],
      "metadata": {
        "colab": {
          "base_uri": "https://localhost:8080/"
        },
        "outputId": "85ac1b3a-801d-46ad-f01e-475bbe72eed2",
        "id": "Y9VHW8Mzq7lT"
      },
      "execution_count": 50,
      "outputs": [
        {
          "output_type": "stream",
          "name": "stdout",
          "text": [
            "peter\n"
          ]
        }
      ]
    },
    {
      "cell_type": "code",
      "source": [
        "# Using a wildcard to unpack a tuple\n",
        "\n",
        "fruits = (\"apple\", \"banana\", \"orange\", \"guava\", \"grapes\", \"nuts\")\n",
        "\n",
        "(edible, *non_edible) = fruits\n",
        "\n",
        "print(non_edible)\n",
        "print(edible)"
      ],
      "metadata": {
        "colab": {
          "base_uri": "https://localhost:8080/"
        },
        "id": "BvfURFXhre08",
        "outputId": "e2a47689-7b2a-4600-f32c-0c146121faff"
      },
      "execution_count": 52,
      "outputs": [
        {
          "output_type": "stream",
          "name": "stdout",
          "text": [
            "['banana', 'orange', 'guava', 'grapes', 'nuts']\n",
            "apple\n"
          ]
        }
      ]
    },
    {
      "cell_type": "code",
      "source": [
        "fruits = (\"apple\", \"banana\", \"orange\", \"guava\", \"grapes\", \"nuts\")\n",
        "\n",
        "(*edible, non_edible) = fruits\n",
        "\n",
        "print(non_edible)\n",
        "print(edible)"
      ],
      "metadata": {
        "colab": {
          "base_uri": "https://localhost:8080/"
        },
        "outputId": "8cdf8868-9378-47b4-f505-34df3547e0e8",
        "id": "8DwDn57GsOCT"
      },
      "execution_count": 53,
      "outputs": [
        {
          "output_type": "stream",
          "name": "stdout",
          "text": [
            "nuts\n",
            "['apple', 'banana', 'orange', 'guava', 'grapes']\n"
          ]
        }
      ]
    },
    {
      "cell_type": "code",
      "source": [
        "fruits = (\"apple\", \"banana\", \"orange\", \"guava\", \"grapes\", \"nuts\")\n",
        "\n",
        "(*edible, non_edible, good_one) = fruits\n",
        "\n",
        "print(edible)\n",
        "print(non_edible)\n",
        "print(good_one)"
      ],
      "metadata": {
        "colab": {
          "base_uri": "https://localhost:8080/"
        },
        "outputId": "50a12079-0c6c-43b3-af62-a41537cae74e",
        "id": "l146i54usd5K"
      },
      "execution_count": 54,
      "outputs": [
        {
          "output_type": "stream",
          "name": "stdout",
          "text": [
            "['apple', 'banana', 'orange', 'guava']\n",
            "grapes\n",
            "nuts\n"
          ]
        }
      ]
    },
    {
      "cell_type": "code",
      "source": [
        "fruits = (\"apple\", \"banana\", \"orange\", \"guava\", \"grapes\", \"nuts\")\n",
        "\n",
        "(edible, *non_edible, good_one) = fruits\n",
        "\n",
        "print(edible)\n",
        "print(non_edible)\n",
        "print(good_one)"
      ],
      "metadata": {
        "colab": {
          "base_uri": "https://localhost:8080/"
        },
        "outputId": "0fc074d9-be1d-4063-ec20-31f987f7d29e",
        "id": "lPG1Xzd1s4ja"
      },
      "execution_count": 55,
      "outputs": [
        {
          "output_type": "stream",
          "name": "stdout",
          "text": [
            "apple\n",
            "['banana', 'orange', 'guava', 'grapes']\n",
            "nuts\n"
          ]
        }
      ]
    }
  ]
}