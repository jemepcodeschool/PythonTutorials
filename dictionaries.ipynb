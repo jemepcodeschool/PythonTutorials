{
  "nbformat": 4,
  "nbformat_minor": 0,
  "metadata": {
    "colab": {
      "provenance": []
    },
    "kernelspec": {
      "name": "python3",
      "display_name": "Python 3"
    },
    "language_info": {
      "name": "python"
    }
  },
  "cells": [
    {
      "cell_type": "markdown",
      "source": [
        "Dictionaries"
      ],
      "metadata": {
        "id": "MdfQBYeW6hEi"
      }
    },
    {
      "cell_type": "code",
      "execution_count": 2,
      "metadata": {
        "colab": {
          "base_uri": "https://localhost:8080/"
        },
        "id": "0fnPcAr-6Kwk",
        "outputId": "b4179ee4-dff9-4810-d3b0-bfd9f4c39747"
      },
      "outputs": [
        {
          "output_type": "stream",
          "name": "stdout",
          "text": [
            "['jon', 'sam', 21, 22]\n"
          ]
        }
      ],
      "source": [
        "# Examples of lists\n",
        "names_of_students = ['jon','sam']\n",
        "age_of_students = [21, 22]\n",
        "\n",
        "print(names_of_students + age_of_students)"
      ]
    },
    {
      "cell_type": "code",
      "source": [
        "# Initializing a dictionary\n",
        "\n",
        "python_class = {}"
      ],
      "metadata": {
        "id": "z4cS-Re37MrS"
      },
      "execution_count": null,
      "outputs": []
    },
    {
      "cell_type": "code",
      "source": [
        "# A set is very similar to a dictionary in contruction.\n",
        "python_class = {'names_of_students', 'age_of_students'}\n",
        "\n",
        "print(python_class)"
      ],
      "metadata": {
        "colab": {
          "base_uri": "https://localhost:8080/"
        },
        "id": "319-fVWS7jx2",
        "outputId": "5d477c1f-7fac-4bb8-ad62-43103bfb95aa"
      },
      "execution_count": 3,
      "outputs": [
        {
          "output_type": "stream",
          "name": "stdout",
          "text": [
            "{'age_of_students', 'names_of_students'}\n"
          ]
        }
      ]
    },
    {
      "cell_type": "code",
      "source": [
        "# A dictionary has a key mapped to a value. The value can be null\n",
        "python_class = {'names_of_students': ['sam', 'jon'], 'age_of_students': [21, 22]}\n",
        "\n",
        "print(python_class)"
      ],
      "metadata": {
        "colab": {
          "base_uri": "https://localhost:8080/"
        },
        "id": "FzLYWi3V9HPO",
        "outputId": "6a82f921-7732-4d0a-8943-c88319ae98a8"
      },
      "execution_count": 10,
      "outputs": [
        {
          "output_type": "stream",
          "name": "stdout",
          "text": [
            "{'names_of_students': ['sam', 'jon'], 'age_of_students': [21, 22]}\n"
          ]
        }
      ]
    },
    {
      "cell_type": "code",
      "source": [
        "# Get the keys of a dictionary\n",
        "print(python_class.keys())"
      ],
      "metadata": {
        "colab": {
          "base_uri": "https://localhost:8080/"
        },
        "id": "kQm63-Qq-Kex",
        "outputId": "58f095d7-55da-439e-c052-1319343a0220"
      },
      "execution_count": 9,
      "outputs": [
        {
          "output_type": "stream",
          "name": "stdout",
          "text": [
            "dict_keys(['names_of_students', 'age_of_students'])\n"
          ]
        }
      ]
    },
    {
      "cell_type": "code",
      "source": [
        "# Get the values of a dictionary\n",
        "print(python_class.values())"
      ],
      "metadata": {
        "colab": {
          "base_uri": "https://localhost:8080/"
        },
        "id": "GqpUlc9E-Utx",
        "outputId": "dce6bfec-a196-492f-e046-3c1a9cc59beb"
      },
      "execution_count": 11,
      "outputs": [
        {
          "output_type": "stream",
          "name": "stdout",
          "text": [
            "dict_values([['sam', 'jon'], [21, 22]])\n"
          ]
        }
      ]
    },
    {
      "cell_type": "code",
      "source": [
        "# Getting the keys in a dictionary\n",
        "for key in python_class.keys():\n",
        "  print(key)"
      ],
      "metadata": {
        "colab": {
          "base_uri": "https://localhost:8080/"
        },
        "id": "HZO9dVB3-scu",
        "outputId": "3d5132d9-bafe-4761-83ed-f16996028d22"
      },
      "execution_count": 13,
      "outputs": [
        {
          "output_type": "stream",
          "name": "stdout",
          "text": [
            "names_of_students\n",
            "age_of_students\n"
          ]
        }
      ]
    },
    {
      "cell_type": "code",
      "source": [
        "# Getting the keys and pos it occupies in a dictionary\n",
        "for pos, key in enumerate(python_class.keys()):\n",
        "  print(pos, key)"
      ],
      "metadata": {
        "colab": {
          "base_uri": "https://localhost:8080/"
        },
        "outputId": "378026c0-f267-445d-c18c-3db5578aacac",
        "id": "RWlU921c-8CU"
      },
      "execution_count": 14,
      "outputs": [
        {
          "output_type": "stream",
          "name": "stdout",
          "text": [
            "0 names_of_students\n",
            "1 age_of_students\n"
          ]
        }
      ]
    },
    {
      "cell_type": "code",
      "source": [
        "# Get the values in a dictionary\n",
        "for val in python_class.values():\n",
        "  print(val)"
      ],
      "metadata": {
        "colab": {
          "base_uri": "https://localhost:8080/"
        },
        "outputId": "01c0eac1-d07a-4242-8b08-e69964356402",
        "id": "aFIbedIM_CBV"
      },
      "execution_count": 15,
      "outputs": [
        {
          "output_type": "stream",
          "name": "stdout",
          "text": [
            "['sam', 'jon']\n",
            "[21, 22]\n"
          ]
        }
      ]
    },
    {
      "cell_type": "code",
      "source": [
        "# Get the key and value in dictionary using .items\n",
        "for key, val in python_class.items():\n",
        "  print(key, val)"
      ],
      "metadata": {
        "colab": {
          "base_uri": "https://localhost:8080/"
        },
        "id": "a8HTB8_q_R8o",
        "outputId": "6996ec54-bb98-437d-d6b5-d380a3ed6fcf"
      },
      "execution_count": 16,
      "outputs": [
        {
          "output_type": "stream",
          "name": "stdout",
          "text": [
            "names_of_students ['sam', 'jon']\n",
            "age_of_students [21, 22]\n"
          ]
        }
      ]
    },
    {
      "cell_type": "code",
      "source": [
        "# Checking if a value exists in a dictionary\n",
        "if 'sam' in python_class:\n",
        "  print('Yes, sam is in this class')\n",
        "else:\n",
        "  print('No')"
      ],
      "metadata": {
        "colab": {
          "base_uri": "https://localhost:8080/"
        },
        "id": "DB_ElyjK_o0x",
        "outputId": "1754368d-4836-458b-be1f-afa487cef27f"
      },
      "execution_count": 20,
      "outputs": [
        {
          "output_type": "stream",
          "name": "stdout",
          "text": [
            "No\n"
          ]
        }
      ]
    },
    {
      "cell_type": "code",
      "source": [
        "if 'names_of_students' in python_class:\n",
        "  print('Names of Students is in this class')"
      ],
      "metadata": {
        "colab": {
          "base_uri": "https://localhost:8080/"
        },
        "id": "kNZCdX4wBjdO",
        "outputId": "63dfc3d6-e876-4244-9aba-1751e267df9f"
      },
      "execution_count": 25,
      "outputs": [
        {
          "output_type": "stream",
          "name": "stdout",
          "text": [
            "Names of Students is in this class\n"
          ]
        }
      ]
    },
    {
      "cell_type": "code",
      "source": [
        "if 'sam' in python_class['names_of_students']:\n",
        "  print('Yes, sam is in this class')\n",
        "else:\n",
        "  print('No')"
      ],
      "metadata": {
        "colab": {
          "base_uri": "https://localhost:8080/"
        },
        "outputId": "d57c805f-69e5-4de1-d94f-f0a5c8a66173",
        "id": "Pqk70oS7AI0Z"
      },
      "execution_count": 22,
      "outputs": [
        {
          "output_type": "stream",
          "name": "stdout",
          "text": [
            "No\n"
          ]
        }
      ]
    },
    {
      "cell_type": "code",
      "source": [
        "example_dict = {'names': 'sam', 'age': 12}\n",
        "\n",
        "if 'sam' in example_dict.values():\n",
        "  print('Yes, sam is in this class')\n",
        "else:\n",
        "  print('No')"
      ],
      "metadata": {
        "colab": {
          "base_uri": "https://localhost:8080/"
        },
        "id": "YVFAZj7tCN3l",
        "outputId": "80b7f34b-b407-445b-eda9-18fd10c7832e"
      },
      "execution_count": 27,
      "outputs": [
        {
          "output_type": "stream",
          "name": "stdout",
          "text": [
            "Yes, sam is in this class\n"
          ]
        }
      ]
    },
    {
      "cell_type": "code",
      "source": [
        "if 'sam' in python_class.values():\n",
        "  print('Yes, sam is in this class')\n",
        "else:\n",
        "  print('No')"
      ],
      "metadata": {
        "colab": {
          "base_uri": "https://localhost:8080/"
        },
        "outputId": "9b0206da-4324-4ca5-dcca-a7c8924b832f",
        "id": "8fHLoxQ3AuFr"
      },
      "execution_count": 28,
      "outputs": [
        {
          "output_type": "stream",
          "name": "stdout",
          "text": [
            "No\n"
          ]
        }
      ]
    },
    {
      "cell_type": "code",
      "source": [
        "if ['sam', 'jon'] in python_class.values():\n",
        "  print('Yes, sam is in this class')\n",
        "else:\n",
        "  print('No')"
      ],
      "metadata": {
        "colab": {
          "base_uri": "https://localhost:8080/"
        },
        "outputId": "a1f13b43-4420-4c11-8079-0cb66f1b8e0c",
        "id": "UTWsCVEWBU_p"
      },
      "execution_count": null,
      "outputs": [
        {
          "output_type": "stream",
          "name": "stdout",
          "text": [
            "Yes, sam is in this class\n"
          ]
        }
      ]
    },
    {
      "cell_type": "code",
      "source": [
        "# Using loops and in keyword to check for existence of a value\n",
        "for val in python_class.values():\n",
        "  if 'sam' in val:\n",
        "    print('found sam', 'haha')\n",
        "    break\n",
        "\n",
        "  else:\n",
        "    print('Did not find sam')"
      ],
      "metadata": {
        "colab": {
          "base_uri": "https://localhost:8080/"
        },
        "id": "DCdyMqBiAIWL",
        "outputId": "8274de09-03cc-47aa-933b-16112a48a701"
      },
      "execution_count": 32,
      "outputs": [
        {
          "output_type": "stream",
          "name": "stdout",
          "text": [
            "found sam haha\n"
          ]
        }
      ]
    },
    {
      "cell_type": "code",
      "source": [
        "# Using get to retrieve a value given a key\n",
        "python_class.get('names_of_students','No name found')"
      ],
      "metadata": {
        "colab": {
          "base_uri": "https://localhost:8080/"
        },
        "id": "GuoqlDT8Dbaw",
        "outputId": "8c496187-90dd-4560-93a2-882b2923ba9b"
      },
      "execution_count": 33,
      "outputs": [
        {
          "output_type": "execute_result",
          "data": {
            "text/plain": [
              "['sam', 'jon']"
            ]
          },
          "metadata": {},
          "execution_count": 33
        }
      ]
    },
    {
      "cell_type": "code",
      "source": [
        "python_class.get('teachers','No teachers found')"
      ],
      "metadata": {
        "colab": {
          "base_uri": "https://localhost:8080/",
          "height": 35
        },
        "outputId": "ea7afb1a-4c76-41da-b6a4-bc7d22019aad",
        "id": "0udb0eShEGL7"
      },
      "execution_count": 34,
      "outputs": [
        {
          "output_type": "execute_result",
          "data": {
            "text/plain": [
              "'No teachers found'"
            ],
            "application/vnd.google.colaboratory.intrinsic+json": {
              "type": "string"
            }
          },
          "metadata": {},
          "execution_count": 34
        }
      ]
    },
    {
      "cell_type": "code",
      "source": [
        "print(python_class)"
      ],
      "metadata": {
        "colab": {
          "base_uri": "https://localhost:8080/"
        },
        "id": "N1R3MKGjEWoD",
        "outputId": "0c3fb354-17cf-49f2-d5f0-bc108cdf2d71"
      },
      "execution_count": 36,
      "outputs": [
        {
          "output_type": "stream",
          "name": "stdout",
          "text": [
            "{'names_of_students': ['sam', 'jon'], 'age_of_students': [21, 22]}\n"
          ]
        }
      ]
    },
    {
      "cell_type": "code",
      "source": [
        "# Using setdefault to set the value of a key if it doesn't exist\n",
        "python_class.setdefault('names_of_students', ['sam', 'jon', 'mykel'])"
      ],
      "metadata": {
        "colab": {
          "base_uri": "https://localhost:8080/"
        },
        "id": "rtEkRHHnE0Lh",
        "outputId": "13c91242-516d-41e8-b7d9-1e9eb91021b5"
      },
      "execution_count": 37,
      "outputs": [
        {
          "output_type": "execute_result",
          "data": {
            "text/plain": [
              "['sam', 'jon']"
            ]
          },
          "metadata": {},
          "execution_count": 37
        }
      ]
    },
    {
      "cell_type": "code",
      "source": [
        "python_class.setdefault('teachers', ['alice', 'bob'])"
      ],
      "metadata": {
        "colab": {
          "base_uri": "https://localhost:8080/"
        },
        "outputId": "966433be-c660-4160-e8cd-37c65fe48ca0",
        "id": "UFm2jG9WFSKc"
      },
      "execution_count": 38,
      "outputs": [
        {
          "output_type": "execute_result",
          "data": {
            "text/plain": [
              "['alice', 'bob']"
            ]
          },
          "metadata": {},
          "execution_count": 38
        }
      ]
    },
    {
      "cell_type": "code",
      "source": [
        "print(python_class)"
      ],
      "metadata": {
        "colab": {
          "base_uri": "https://localhost:8080/"
        },
        "outputId": "b428c683-1bd6-4429-eea1-f8fc8becf7d4",
        "id": "q5nAZbz3FcGm"
      },
      "execution_count": 39,
      "outputs": [
        {
          "output_type": "stream",
          "name": "stdout",
          "text": [
            "{'names_of_students': ['sam', 'jon'], 'age_of_students': [21, 22], 'teachers': ['alice', 'bob']}\n"
          ]
        }
      ]
    },
    {
      "cell_type": "code",
      "source": [
        "# Below code was copied from a online compiler\n",
        "# Online Python compiler (interpreter) to run Python online.\n",
        "# Write Python 3 code in this online editor and run it.\n",
        "school = { \n",
        "    'python': {\n",
        "    'students' : ['sam', 'jon'],\n",
        "    'teachers' : ['bob', 'alice'],\n",
        "    'price' : 1299.99,\n",
        "    'status': 'online'\n",
        "    },\n",
        "    'math':{\n",
        "    'students' : ['mykel', 'jane'],\n",
        "    'teachers' : ['jack', 'liza'],\n",
        "    'price' : 1099.99,\n",
        "    'status': 'on-campus'\n",
        "    }\n",
        "}\n",
        "\n",
        "# for val in school.values():\n",
        "#     if 'sam' in val['students']:\n",
        "#         print('found sam')\n",
        "#         break\n",
        "    \n",
        "#     else:\n",
        "#         print('sam is not a registered student')\n",
        "        \n",
        "\n",
        "print(school['python']['price'] + school['math']['price'])"
      ],
      "metadata": {
        "colab": {
          "base_uri": "https://localhost:8080/"
        },
        "id": "V4TqkxR6Fsdj",
        "outputId": "4b02f0ad-8b48-4622-c14a-e601788da3b8"
      },
      "execution_count": 1,
      "outputs": [
        {
          "output_type": "stream",
          "name": "stdout",
          "text": [
            "2399.98\n"
          ]
        }
      ]
    },
    {
      "cell_type": "code",
      "source": [],
      "metadata": {
        "id": "7Zznbg99FsRy"
      },
      "execution_count": null,
      "outputs": []
    }
  ]
}