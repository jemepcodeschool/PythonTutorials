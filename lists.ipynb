{
  "nbformat": 4,
  "nbformat_minor": 0,
  "metadata": {
    "colab": {
      "provenance": []
    },
    "kernelspec": {
      "name": "python3",
      "display_name": "Python 3"
    },
    "language_info": {
      "name": "python"
    }
  },
  "cells": [
    {
      "cell_type": "markdown",
      "source": [
        "What is a list\n",
        "\n",
        "Is a data type that allows you to add and remove values, access its values and iterate through its values"
      ],
      "metadata": {
        "id": "_drdOQ0bRAOX"
      }
    },
    {
      "cell_type": "code",
      "execution_count": 1,
      "metadata": {
        "colab": {
          "base_uri": "https://localhost:8080/"
        },
        "id": "1iak9skiOkpO",
        "outputId": "0c1957f6-501f-426f-c21d-b000c69bb75b"
      },
      "outputs": [
        {
          "output_type": "stream",
          "name": "stdout",
          "text": [
            "['mykel', 'sam', 'jon']\n"
          ]
        }
      ],
      "source": [
        "# printing a list\n",
        "names_of_students = ['mykel', 'sam', 'jon']\n",
        "\n",
        "print(names_of_students)"
      ]
    },
    {
      "cell_type": "code",
      "source": [
        "# Printing each value in a list\n",
        "for name in names_of_students:\n",
        "  print(name)"
      ],
      "metadata": {
        "colab": {
          "base_uri": "https://localhost:8080/"
        },
        "id": "Ejx0z7V5bYEO",
        "outputId": "36afbe2a-0366-43dc-a41b-645feb4b6435"
      },
      "execution_count": 3,
      "outputs": [
        {
          "output_type": "stream",
          "name": "stdout",
          "text": [
            "mykel\n",
            "sam\n",
            "jon\n"
          ]
        }
      ]
    },
    {
      "cell_type": "code",
      "source": [
        "# Enumerating through a list\n",
        "# Enumerate pos and the value of each element\n",
        "for i,j in enumerate(names_of_students):\n",
        "  print(i)\n"
      ],
      "metadata": {
        "colab": {
          "base_uri": "https://localhost:8080/"
        },
        "id": "F67gdoTobqUM",
        "outputId": "50472e73-76c8-434d-e9a2-3e3cbb381d7a"
      },
      "execution_count": 6,
      "outputs": [
        {
          "output_type": "stream",
          "name": "stdout",
          "text": [
            "0\n",
            "1\n",
            "2\n"
          ]
        }
      ]
    },
    {
      "cell_type": "code",
      "source": [
        "# Prints the value occupaying the first pos\n",
        "print(names_of_students[1])"
      ],
      "metadata": {
        "colab": {
          "base_uri": "https://localhost:8080/"
        },
        "id": "QYgg3_dkc49q",
        "outputId": "6f270bba-d828-4762-9d3e-8455a7690a68"
      },
      "execution_count": 11,
      "outputs": [
        {
          "output_type": "stream",
          "name": "stdout",
          "text": [
            "sam\n"
          ]
        }
      ]
    },
    {
      "cell_type": "code",
      "source": [
        "# Assigning value to a position\n",
        "names_of_students[1] = 'bob'\n",
        "\n",
        "print(names_of_students)"
      ],
      "metadata": {
        "colab": {
          "base_uri": "https://localhost:8080/"
        },
        "id": "2KvIpi_AdaPr",
        "outputId": "569b8dc9-97b8-4921-dc19-106d1ae9d005"
      },
      "execution_count": 12,
      "outputs": [
        {
          "output_type": "stream",
          "name": "stdout",
          "text": [
            "['mykel', 'bob', 'jon']\n"
          ]
        }
      ]
    },
    {
      "cell_type": "code",
      "source": [
        "# delete a position\n",
        "del names_of_students[2]\n",
        "\n",
        "print(names_of_students)"
      ],
      "metadata": {
        "colab": {
          "base_uri": "https://localhost:8080/"
        },
        "id": "Ca47AxRSdpNI",
        "outputId": "b5886980-08ea-4901-fd4a-35e0bac014a6"
      },
      "execution_count": 17,
      "outputs": [
        {
          "output_type": "stream",
          "name": "stdout",
          "text": [
            "['mykel', 'bob']\n"
          ]
        }
      ]
    },
    {
      "cell_type": "code",
      "source": [
        "# Add value to the bottom of the list\n",
        "\n",
        "names_of_students.append('alice')\n",
        "names_of_students.append('mary')\n",
        "\n",
        "print(names_of_students)"
      ],
      "metadata": {
        "colab": {
          "base_uri": "https://localhost:8080/"
        },
        "id": "9l-2iPIveFSv",
        "outputId": "84ee5078-b115-4127-8b91-77812cf0f6c1"
      },
      "execution_count": 19,
      "outputs": [
        {
          "output_type": "stream",
          "name": "stdout",
          "text": [
            "['mykel', 'bob', 'alice', 'mary']\n"
          ]
        }
      ]
    },
    {
      "cell_type": "code",
      "source": [
        "# remove an element from a list\n",
        "\n",
        "names_of_students.remove('mykel')\n",
        "\n",
        "print(names_of_students)"
      ],
      "metadata": {
        "colab": {
          "base_uri": "https://localhost:8080/"
        },
        "id": "MwQeZGQHfavZ",
        "outputId": "efdf986f-88b8-4018-d2b9-b8b27cba72e6"
      },
      "execution_count": 20,
      "outputs": [
        {
          "output_type": "stream",
          "name": "stdout",
          "text": [
            "['bob', 'alice', 'mary']\n"
          ]
        }
      ]
    },
    {
      "cell_type": "code",
      "source": [
        "# insert a value at a specific position in a list\n",
        "\n",
        "names_of_students.insert(0, 'jose')\n",
        "\n",
        "print(names_of_students)"
      ],
      "metadata": {
        "colab": {
          "base_uri": "https://localhost:8080/"
        },
        "id": "UaBHnlkDgrG0",
        "outputId": "97f930e5-b003-4252-b86a-299fb9569e79"
      },
      "execution_count": 22,
      "outputs": [
        {
          "output_type": "stream",
          "name": "stdout",
          "text": [
            "['jose', 'bob', 'alice', 'mary']\n"
          ]
        }
      ]
    },
    {
      "cell_type": "code",
      "source": [
        "# for pos,elem in enumerate(names_of_students):\n",
        "#   print(pos, elem)\n",
        "\n",
        "#[   0,     1,       2,       3 ]\n",
        "#[  -4,    -3,      -2,      -1 ]\n",
        "#['jose', 'bob', 'alice', 'mary']\n",
        "\n",
        "print(names_of_students[-1] == names_of_students[3])\n"
      ],
      "metadata": {
        "colab": {
          "base_uri": "https://localhost:8080/"
        },
        "id": "ZNSSqUYWhJ1c",
        "outputId": "e2f967a1-93a9-4fcf-90fd-76264c4094a3"
      },
      "execution_count": 33,
      "outputs": [
        {
          "output_type": "stream",
          "name": "stdout",
          "text": [
            "True\n"
          ]
        }
      ]
    },
    {
      "cell_type": "code",
      "source": [
        "# Getting the last value using the len of the list\n",
        "\n",
        "number_of_students = len(names_of_students)\n",
        "\n",
        "last_position_of_list = len(names_of_students) - 1\n",
        "\n",
        "print(names_of_students[last_position_of_list])"
      ],
      "metadata": {
        "colab": {
          "base_uri": "https://localhost:8080/"
        },
        "id": "w9aUv17di7vw",
        "outputId": "e5495b3c-fa53-4fbc-fd6e-9e86e7640654"
      },
      "execution_count": 36,
      "outputs": [
        {
          "output_type": "stream",
          "name": "stdout",
          "text": [
            "mary\n"
          ]
        }
      ]
    },
    {
      "cell_type": "code",
      "source": [
        "# Get the last element of a list using negative index\n",
        "\n",
        "print(names_of_students[-1])"
      ],
      "metadata": {
        "colab": {
          "base_uri": "https://localhost:8080/"
        },
        "id": "JQWcMWD-kPGq",
        "outputId": "61492929-674e-4265-f241-4c8cc382a42b"
      },
      "execution_count": 37,
      "outputs": [
        {
          "output_type": "stream",
          "name": "stdout",
          "text": [
            "mary\n"
          ]
        }
      ]
    },
    {
      "cell_type": "code",
      "source": [
        "# Creating a list by addition\n",
        "\n",
        "names_teachers = ['jack', 'jane']\n",
        "\n",
        "print(names_of_students + names_teachers)"
      ],
      "metadata": {
        "colab": {
          "base_uri": "https://localhost:8080/"
        },
        "id": "iQaRfi52kbh9",
        "outputId": "4aedc912-43e3-4373-b4b5-40ac7a9669f3"
      },
      "execution_count": 38,
      "outputs": [
        {
          "output_type": "stream",
          "name": "stdout",
          "text": [
            "['jose', 'bob', 'alice', 'mary', 'jack', 'jane']\n"
          ]
        }
      ]
    },
    {
      "cell_type": "code",
      "source": [
        "# Multiplying a list\n",
        "\n",
        "print(names_teachers * 3)"
      ],
      "metadata": {
        "colab": {
          "base_uri": "https://localhost:8080/"
        },
        "id": "tuMatmHvk32W",
        "outputId": "c28845dc-66ba-4799-d381-2cd367fcd925"
      },
      "execution_count": 39,
      "outputs": [
        {
          "output_type": "stream",
          "name": "stdout",
          "text": [
            "['jack', 'jane', 'jack', 'jane', 'jack', 'jane']\n"
          ]
        }
      ]
    },
    {
      "cell_type": "code",
      "source": [
        "print(names_of_students)\n",
        "print(names_teachers)"
      ],
      "metadata": {
        "colab": {
          "base_uri": "https://localhost:8080/"
        },
        "id": "NK-idv5-lgcB",
        "outputId": "873bfc8f-ddf3-4dfe-8dd9-bc6104c9ed4a"
      },
      "execution_count": 41,
      "outputs": [
        {
          "output_type": "stream",
          "name": "stdout",
          "text": [
            "['jose', 'bob', 'alice', 'mary']\n",
            "['jack', 'jane']\n"
          ]
        }
      ]
    },
    {
      "cell_type": "code",
      "source": [
        "# using slices\n",
        "\n",
        "print(names_of_students[0:4:2])"
      ],
      "metadata": {
        "colab": {
          "base_uri": "https://localhost:8080/"
        },
        "id": "MLrQU6IJlvtP",
        "outputId": "0dd7a64b-4e1f-49e2-83fa-35b98fbfa063"
      },
      "execution_count": 48,
      "outputs": [
        {
          "output_type": "stream",
          "name": "stdout",
          "text": [
            "['jose', 'alice']\n"
          ]
        }
      ]
    },
    {
      "cell_type": "code",
      "source": [
        "# using lists with loops\n",
        "\n",
        "for student in names_of_students:\n",
        "  if student == 'bob':\n",
        "    print('Hello bob')\n",
        "  else:\n",
        "    print('You are not bob')"
      ],
      "metadata": {
        "colab": {
          "base_uri": "https://localhost:8080/"
        },
        "id": "Zo_7jCynnf8c",
        "outputId": "a310a2ef-3bd8-4fc2-da58-5e270f545d28"
      },
      "execution_count": 49,
      "outputs": [
        {
          "output_type": "stream",
          "name": "stdout",
          "text": [
            "You are not bob\n",
            "Hello bob\n",
            "You are not bob\n",
            "You are not bob\n"
          ]
        }
      ]
    },
    {
      "cell_type": "code",
      "source": [
        "# using lists with loops\n",
        "\n",
        "science_students = ['alice']\n",
        "\n",
        "for student in names_of_students:\n",
        "  if student not in science_students:\n",
        "    science_students.append(student)\n",
        "  else:\n",
        "    print('You are already a science student')"
      ],
      "metadata": {
        "colab": {
          "base_uri": "https://localhost:8080/"
        },
        "id": "n93I-g14oUq9",
        "outputId": "b1ef9bdb-fee9-4770-b7c3-415e208e0a2c"
      },
      "execution_count": 50,
      "outputs": [
        {
          "output_type": "stream",
          "name": "stdout",
          "text": [
            "You are already a science student\n"
          ]
        }
      ]
    },
    {
      "cell_type": "code",
      "source": [
        "print(science_students)"
      ],
      "metadata": {
        "colab": {
          "base_uri": "https://localhost:8080/"
        },
        "id": "x5XYFGyko83E",
        "outputId": "a5197efc-4dc1-4698-a62a-aad1f3ae850f"
      },
      "execution_count": 51,
      "outputs": [
        {
          "output_type": "stream",
          "name": "stdout",
          "text": [
            "['alice', 'jose', 'bob', 'mary']\n"
          ]
        }
      ]
    },
    {
      "cell_type": "code",
      "source": [
        "# sorting a list\n",
        "\n",
        "student_ids = [102,343,111,901,221,678]\n",
        "\n",
        "student_ids.sort()\n",
        "\n",
        "print(student_ids)"
      ],
      "metadata": {
        "colab": {
          "base_uri": "https://localhost:8080/"
        },
        "id": "AoXeymvWpitQ",
        "outputId": "78f6c949-fcbf-404b-9023-f18bbe19b636"
      },
      "execution_count": 53,
      "outputs": [
        {
          "output_type": "stream",
          "name": "stdout",
          "text": [
            "[102, 111, 221, 343, 678, 901]\n"
          ]
        }
      ]
    },
    {
      "cell_type": "code",
      "source": [
        "# sorting using a key\n",
        "\n",
        "chars = ['aA', 'bb', 'Ae', 'zb', 'cC', 'l', 'Mn', 'c']\n",
        "chars.sort()\n",
        "\n",
        "print(chars)\n",
        "\n",
        "chars.sort(key=str.lower)\n",
        "\n",
        "print(chars)\n",
        "\n",
        "chars.sort(key=str.upper)\n",
        "\n",
        "print(chars)"
      ],
      "metadata": {
        "colab": {
          "base_uri": "https://localhost:8080/"
        },
        "id": "f6QrYFVnqOFJ",
        "outputId": "2f062f45-1451-429a-e713-6babd27b891c"
      },
      "execution_count": 60,
      "outputs": [
        {
          "output_type": "stream",
          "name": "stdout",
          "text": [
            "['Ae', 'Mn', 'aA', 'bb', 'c', 'cC', 'l', 'zb']\n",
            "['aA', 'Ae', 'bb', 'c', 'cC', 'l', 'Mn', 'zb']\n",
            "['aA', 'Ae', 'bb', 'c', 'cC', 'l', 'Mn', 'zb']\n"
          ]
        }
      ]
    },
    {
      "cell_type": "code",
      "source": [
        "# sort in reverse\n",
        "print(names_of_students)\n",
        "\n",
        "names_of_students.sort(reverse=True)\n",
        "\n",
        "print(names_of_students)"
      ],
      "metadata": {
        "colab": {
          "base_uri": "https://localhost:8080/"
        },
        "id": "NnJTCLuls9WA",
        "outputId": "4d4ab8aa-19ca-4c21-d159-d76ee1dedab8"
      },
      "execution_count": 63,
      "outputs": [
        {
          "output_type": "stream",
          "name": "stdout",
          "text": [
            "['alice', 'bob', 'jose', 'mary']\n",
            "['mary', 'jose', 'bob', 'alice']\n"
          ]
        }
      ]
    },
    {
      "cell_type": "code",
      "source": [
        "# Reversing a list\n",
        "\n",
        "print(names_of_students)\n",
        "\n",
        "#names_of_students.reverse()\n",
        "\n",
        "print(names_of_students[::-1])\n",
        "\n"
      ],
      "metadata": {
        "colab": {
          "base_uri": "https://localhost:8080/"
        },
        "id": "xRXo9GoCtv3M",
        "outputId": "3af62a37-2230-4f14-91bc-73a1a557928b"
      },
      "execution_count": 69,
      "outputs": [
        {
          "output_type": "stream",
          "name": "stdout",
          "text": [
            "['alice', 'bob', 'jose', 'mary']\n",
            "['mary', 'jose', 'bob', 'alice']\n"
          ]
        }
      ]
    }
  ]
}