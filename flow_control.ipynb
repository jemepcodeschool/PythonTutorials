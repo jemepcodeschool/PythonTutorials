{
  "nbformat": 4,
  "nbformat_minor": 0,
  "metadata": {
    "colab": {
      "provenance": []
    },
    "kernelspec": {
      "name": "python3",
      "display_name": "Python 3"
    },
    "language_info": {
      "name": "python"
    }
  },
  "cells": [
    {
      "cell_type": "markdown",
      "source": [
        "**Boolean Operators**\n",
        "\n",
        "\n",
        "==   Equal to\n"
      ],
      "metadata": {
        "id": "dmm9F8kL-HYz"
      }
    },
    {
      "cell_type": "code",
      "source": [
        "# list \n",
        "\n",
        "names_of_students = [\"mykel\", \"sam\", \"john\"]\n",
        "\n",
        "# check if mykel is in names_of_students"
      ],
      "metadata": {
        "id": "c-K9QTO1-Gb6"
      },
      "execution_count": null,
      "outputs": []
    },
    {
      "cell_type": "markdown",
      "source": [
        "**Boolean Operators**\n",
        "\n",
        "\n",
        "!=        Not equal to\n"
      ],
      "metadata": {
        "id": "tllDHiT_-sw0"
      }
    },
    {
      "cell_type": "code",
      "source": [
        "# We evaluated that 2 is not equal to 3\n",
        "\n",
        "#print(2 != 3)\n",
        "\n",
        "# We evaluated that 3 is equal to 3\n",
        "#print(3 != 3)"
      ],
      "metadata": {
        "colab": {
          "base_uri": "https://localhost:8080/"
        },
        "id": "DCPJ9AS9-oe_",
        "outputId": "96045b68-54f6-440a-f534-f77d9eb1edfa"
      },
      "execution_count": 4,
      "outputs": [
        {
          "output_type": "stream",
          "name": "stdout",
          "text": [
            "False\n"
          ]
        }
      ]
    },
    {
      "cell_type": "markdown",
      "source": [
        "**Boolean Operators**\n",
        "\n",
        "\n",
        "<   Less than\n"
      ],
      "metadata": {
        "id": "xV9qQs4p-pcd"
      }
    },
    {
      "cell_type": "code",
      "source": [
        "#print(3 < 5)\n",
        "\n",
        "print(1 < 4)"
      ],
      "metadata": {
        "colab": {
          "base_uri": "https://localhost:8080/"
        },
        "id": "gvTaP2JQ-p1L",
        "outputId": "590b14a7-6ada-42d6-af26-c1b5fa10544a"
      },
      "execution_count": 6,
      "outputs": [
        {
          "output_type": "stream",
          "name": "stdout",
          "text": [
            "True\n"
          ]
        }
      ]
    },
    {
      "cell_type": "markdown",
      "source": [
        "**Boolean Operators**\n",
        "\n",
        "\n",
        "Greater than >\n"
      ],
      "metadata": {
        "id": "3ac4ykG1-qGi"
      }
    },
    {
      "cell_type": "code",
      "source": [
        "is_greater = 6 > 5\n",
        "\n",
        "print(is_greater)"
      ],
      "metadata": {
        "colab": {
          "base_uri": "https://localhost:8080/"
        },
        "id": "zMzzkJ3D-qZE",
        "outputId": "690c04bb-e53d-464b-ed64-ef00433b38de"
      },
      "execution_count": 7,
      "outputs": [
        {
          "output_type": "stream",
          "name": "stdout",
          "text": [
            "True\n"
          ]
        }
      ]
    },
    {
      "cell_type": "markdown",
      "source": [
        "**Boolean Operators**\n",
        "\n",
        "\n",
        "<=    Less than or equal to\n"
      ],
      "metadata": {
        "id": "mMaPVEYJ-q2l"
      }
    },
    {
      "cell_type": "code",
      "source": [
        "# 5 is less than or equal to 6\n",
        "#print(5 <= 6)\n",
        "\n",
        "# 6 is less than or equal to 6\n",
        "#print(6 <= 6)\n",
        "\n",
        "# 7 is not less than or equal to 6\n",
        "print(7 <= 6)"
      ],
      "metadata": {
        "colab": {
          "base_uri": "https://localhost:8080/"
        },
        "id": "Sk_OhqM2Erad",
        "outputId": "a92fd033-9b12-4966-c50d-9d0d358e7a09"
      },
      "execution_count": 10,
      "outputs": [
        {
          "output_type": "stream",
          "name": "stdout",
          "text": [
            "False\n"
          ]
        }
      ]
    },
    {
      "cell_type": "markdown",
      "source": [
        "**Boolean Operators**\n",
        "\n",
        "Greater than or equal to >="
      ],
      "metadata": {
        "id": "Uef7mdYP_OIP"
      }
    },
    {
      "cell_type": "code",
      "source": [
        "# 7 is greater than or equal to 6 \n",
        "#print(7 >= 6)\n",
        "\n",
        "# 6 is not greater than 6 but it is equal to 6\n",
        "print(6 >= 6)"
      ],
      "metadata": {
        "colab": {
          "base_uri": "https://localhost:8080/"
        },
        "id": "6eSUyv9OHBaf",
        "outputId": "3957adba-1c33-41f6-a044-aaad976b89cc"
      },
      "execution_count": 13,
      "outputs": [
        {
          "output_type": "stream",
          "name": "stdout",
          "text": [
            "True\n"
          ]
        }
      ]
    },
    {
      "cell_type": "markdown",
      "source": [
        "What is the difference between = and =="
      ],
      "metadata": {
        "id": "iZ6ZBwpOISuf"
      }
    },
    {
      "cell_type": "code",
      "source": [
        "# Giving the variable number the value of 6\n",
        "number = 6\n",
        "\n",
        "#print(number)\n",
        "\n",
        "print(number == 7)"
      ],
      "metadata": {
        "colab": {
          "base_uri": "https://localhost:8080/"
        },
        "id": "oh86fDyLIWhK",
        "outputId": "319b3191-de4a-4f9e-ff8e-f92180ae1fcd"
      },
      "execution_count": 20,
      "outputs": [
        {
          "output_type": "stream",
          "name": "stdout",
          "text": [
            "False\n"
          ]
        }
      ]
    },
    {
      "cell_type": "markdown",
      "source": [
        "**Truth Tables**"
      ],
      "metadata": {
        "id": "C7JErxgFHk22"
      }
    },
    {
      "cell_type": "code",
      "source": [
        "# If something is true or true than it is true\n",
        "\n",
        "#print(6 > 5) # True\n",
        "#print(6 == 6) # True\n",
        "print(6 > 5 or 6 == 6)"
      ],
      "metadata": {
        "colab": {
          "base_uri": "https://localhost:8080/"
        },
        "id": "xT_nCd55Hopg",
        "outputId": "75fc44fd-db4d-495b-ce42-50d97c0dd436"
      },
      "execution_count": 17,
      "outputs": [
        {
          "output_type": "stream",
          "name": "stdout",
          "text": [
            "True\n"
          ]
        }
      ]
    },
    {
      "cell_type": "code",
      "source": [
        "# If something is true or false than it is true\n",
        "\n",
        "#print(6 > 5) # True\n",
        "#print(6 == 7) # False\n",
        "print(6 > 5 or 6 == 7)"
      ],
      "metadata": {
        "colab": {
          "base_uri": "https://localhost:8080/"
        },
        "outputId": "cfb3e27c-eb6c-4c4d-ad95-34e3ad3573f2",
        "id": "a48b0ctWJMZQ"
      },
      "execution_count": 23,
      "outputs": [
        {
          "output_type": "stream",
          "name": "stdout",
          "text": [
            "True\n"
          ]
        }
      ]
    },
    {
      "cell_type": "code",
      "source": [
        "# If something is false or true than it is true\n",
        "\n",
        "#print(5 > 5) # False\n",
        "#print(6 == 6) # True\n",
        "print(5 > 5 or 6 == 6)"
      ],
      "metadata": {
        "colab": {
          "base_uri": "https://localhost:8080/"
        },
        "outputId": "2af9a30a-bbf5-49cc-86a2-b39dce7366e8",
        "id": "O2N_WM3WJe36"
      },
      "execution_count": 26,
      "outputs": [
        {
          "output_type": "stream",
          "name": "stdout",
          "text": [
            "True\n"
          ]
        }
      ]
    },
    {
      "cell_type": "code",
      "source": [
        "# If something is false or false than it is false\n",
        "\n",
        "#print(5 > 5) # False\n",
        "#print(6 > 6) # False\n",
        "print(5 > 5 or 6 > 6)"
      ],
      "metadata": {
        "colab": {
          "base_uri": "https://localhost:8080/"
        },
        "outputId": "5685f440-5c54-4a8c-e34f-f06bf08bfc19",
        "id": "yLDRwQlJJys-"
      },
      "execution_count": 30,
      "outputs": [
        {
          "output_type": "stream",
          "name": "stdout",
          "text": [
            "False\n"
          ]
        }
      ]
    },
    {
      "cell_type": "code",
      "source": [
        "# If something is true and false than it is false\n",
        "\n",
        "#print(5 == 5) # True\n",
        "#print(6 > 6) # False\n",
        "print(5 == 5 and 6 > 6)"
      ],
      "metadata": {
        "colab": {
          "base_uri": "https://localhost:8080/"
        },
        "outputId": "e73168cf-ade5-4b34-8477-ec47ce6bba28",
        "id": "Zz5HfirzKJjy"
      },
      "execution_count": 34,
      "outputs": [
        {
          "output_type": "stream",
          "name": "stdout",
          "text": [
            "False\n"
          ]
        }
      ]
    },
    {
      "cell_type": "code",
      "source": [
        "# If something is false and true than it is false\n",
        "\n",
        "#print(6 > 6) # False\n",
        "#print(5 == 5) # True\n",
        "print(6 > 6 and 5 == 5 )"
      ],
      "metadata": {
        "colab": {
          "base_uri": "https://localhost:8080/"
        },
        "outputId": "a83f0fec-3278-4179-ca7f-c2ade886a302",
        "id": "7Zy5CMrbKeSd"
      },
      "execution_count": 35,
      "outputs": [
        {
          "output_type": "stream",
          "name": "stdout",
          "text": [
            "False\n"
          ]
        }
      ]
    },
    {
      "cell_type": "code",
      "source": [
        "# If something is false and false than it is false\n",
        "\n",
        "#print(6 > 6) # False\n",
        "#print(5 > 5) # False\n",
        "print(6 > 6 and 5 > 5 )"
      ],
      "metadata": {
        "colab": {
          "base_uri": "https://localhost:8080/"
        },
        "outputId": "b2dc65ad-b1bb-4c80-8e5a-ae2d7b714661",
        "id": "AISys1nvKsgC"
      },
      "execution_count": 36,
      "outputs": [
        {
          "output_type": "stream",
          "name": "stdout",
          "text": [
            "False\n"
          ]
        }
      ]
    },
    {
      "cell_type": "code",
      "source": [
        "# If something is true and true than it is true\n",
        "\n",
        "#print(6 == 6) # True\n",
        "#print(5 == 5) # True\n",
        "print(6 == 6 and 5 == 5 )"
      ],
      "metadata": {
        "colab": {
          "base_uri": "https://localhost:8080/"
        },
        "outputId": "45cb9381-1c6d-4426-f313-dabdec152ec4",
        "id": "U9ubG_UZK4HV"
      },
      "execution_count": 37,
      "outputs": [
        {
          "output_type": "stream",
          "name": "stdout",
          "text": [
            "True\n",
            "True\n",
            "True\n"
          ]
        }
      ]
    },
    {
      "cell_type": "markdown",
      "source": [
        "The only way to get a false with an OR operator is when both statements are **False**"
      ],
      "metadata": {
        "id": "DTEfd8pKLDvR"
      }
    },
    {
      "cell_type": "markdown",
      "source": [
        "The only wat to get a true with an AND operator is when both statements are **True**"
      ],
      "metadata": {
        "id": "qMyLgnXILNJu"
      }
    },
    {
      "cell_type": "markdown",
      "source": [
        "**Elements of flow controls**\n",
        "\n",
        "1. The if statement"
      ],
      "metadata": {
        "id": "ZE7cVyknLkv_"
      }
    },
    {
      "cell_type": "code",
      "source": [
        "# Example of an if statement\n",
        "\n",
        "#if expression to be evaluated :\n",
        "    # tab expression of what to do after the if statement runs\n",
        "\n",
        "\n",
        "# if 6 > 5:\n",
        "#   print(\"six is greater than five\")\n",
        "\n",
        "names_of_students = [\"sam\", \"jon\", \"Mykel\"]\n",
        "\n",
        "if \"Mykel\" in names_of_students:\n",
        "  print(\"You've won an award Mykel\")"
      ],
      "metadata": {
        "colab": {
          "base_uri": "https://localhost:8080/"
        },
        "id": "U3Ho7HRYLLZl",
        "outputId": "d9ceb711-9d20-420a-a899-e131528df3c6"
      },
      "execution_count": 41,
      "outputs": [
        {
          "output_type": "stream",
          "name": "stdout",
          "text": [
            "You've won an award Mykel\n"
          ]
        }
      ]
    },
    {
      "cell_type": "markdown",
      "source": [
        "An ELSE statement\n",
        "\n",
        "An else statement can only be used when we have an if statement\n",
        "An else statement goes on the same indent as the if statement"
      ],
      "metadata": {
        "id": "CM9sa-j-Nt3J"
      }
    },
    {
      "cell_type": "code",
      "source": [
        "# How to write an else statement\n",
        "\n",
        "# if (expression):\n",
        "    # do something\n",
        "# else:\n",
        "    # do something else"
      ],
      "metadata": {
        "id": "ozmXuAIKONEo"
      },
      "execution_count": null,
      "outputs": []
    },
    {
      "cell_type": "code",
      "source": [
        "# An example of else\n",
        "\n",
        "# names_of_students = [\"sam\", \"jon\", \"Mykel\"]\n",
        "\n",
        "# if \"bob\" in names_of_students:\n",
        "#   print(\"You've won an award bob\")\n",
        "# else:\n",
        "#   print(\"We are missing bob\")\n",
        "\n",
        "\n",
        "# Another example of else where we don't trigger the else\n",
        "\n",
        "names_of_students = [\"sam\", \"jon\", \"mykel\", \"bob\"]\n",
        "\n",
        "if \"bob\" in names_of_students:\n",
        "  print(\"You've won an award bob\")\n",
        "else:\n",
        "  print(\"We are missing bob\")"
      ],
      "metadata": {
        "colab": {
          "base_uri": "https://localhost:8080/"
        },
        "id": "qeNiFUuUNwdL",
        "outputId": "f81e9312-cdc3-416b-9acc-d11317e807b7"
      },
      "execution_count": 43,
      "outputs": [
        {
          "output_type": "stream",
          "name": "stdout",
          "text": [
            "You've won an award bob\n"
          ]
        }
      ]
    },
    {
      "cell_type": "markdown",
      "source": [
        "Else if -> Elif\n",
        "\n",
        "If statement with an else"
      ],
      "metadata": {
        "id": "TXrfF5tWPaFQ"
      }
    },
    {
      "cell_type": "code",
      "source": [
        "# An example of an elif\n",
        "\n",
        "names_of_students = [\"sam\", \"jon\"]\n",
        "\n",
        "if \"bob\" in names_of_students:\n",
        "  print(\"You've won an award bob\")\n",
        "elif \"mykel\" in names_of_students:\n",
        "  print(\"You've won an award Mykel\")\n",
        "else:\n",
        "  print(\"We are missing bob and Mykel\")"
      ],
      "metadata": {
        "colab": {
          "base_uri": "https://localhost:8080/"
        },
        "id": "Ti0xC_FQL-uF",
        "outputId": "1309851b-b4ed-470c-c5a1-8435b8421af3"
      },
      "execution_count": 44,
      "outputs": [
        {
          "output_type": "stream",
          "name": "stdout",
          "text": [
            "We are missing bob and Mykel\n"
          ]
        }
      ]
    },
    {
      "cell_type": "markdown",
      "source": [
        "The while statement\n",
        "\n",
        "1. It uses the while keyword\n",
        "2. A condition\n",
        "3. A colon\n",
        "\n",
        "\n"
      ],
      "metadata": {
        "id": "_MyzKjr5TEqZ"
      }
    },
    {
      "cell_type": "code",
      "source": [
        "names_of_students = [\"sam\", \"jon\"]\n",
        "\n",
        "while \"bob\" and \"mykel\" not in names_of_students:\n",
        "  print(\"1. We are missing bob or mykel\")\n",
        "  print(\"2. Adding bob or mykel to students\")\n",
        "  names_of_students.append(\"bob\")\n",
        "  print(\"3. We are missing bob or mykel\")\n",
        "  print(\"4. Adding bob or mykel to students\")\n",
        "  names_of_students.append(\"mykel\")\n",
        "\n"
      ],
      "metadata": {
        "colab": {
          "base_uri": "https://localhost:8080/"
        },
        "id": "g9XsEvueTgoY",
        "outputId": "a7981964-dc2d-45c9-a985-b3e5e91f102f"
      },
      "execution_count": 47,
      "outputs": [
        {
          "output_type": "stream",
          "name": "stdout",
          "text": [
            "1. We are missing bob or mykel\n",
            "2. Adding bob or mykel to students\n",
            "3. We are missing bob or mykel\n",
            "4. Adding bob or mykel to students\n",
            "I shouldn't print\n"
          ]
        }
      ]
    }
  ]
}