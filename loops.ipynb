{
  "nbformat": 4,
  "nbformat_minor": 0,
  "metadata": {
    "colab": {
      "provenance": []
    },
    "kernelspec": {
      "name": "python3",
      "display_name": "Python 3"
    },
    "language_info": {
      "name": "python"
    }
  },
  "cells": [
    {
      "cell_type": "markdown",
      "source": [
        "The Input statement\n",
        "\n",
        "-Helps get info from the keyboard"
      ],
      "metadata": {
        "id": "mV4eaJek3gyR"
      }
    },
    {
      "cell_type": "code",
      "execution_count": 18,
      "metadata": {
        "colab": {
          "base_uri": "https://localhost:8080/"
        },
        "id": "GXZtl-kF3fBy",
        "outputId": "12e1427e-d1fa-470e-c8c7-4c4d7c12db9e"
      },
      "outputs": [
        {
          "output_type": "stream",
          "name": "stdout",
          "text": [
            "5\n",
            "This is a number 5\n"
          ]
        }
      ],
      "source": [
        "# Takes data from the keyboard\n",
        "# Return result is always a string\n",
        "#name = input()\n",
        "number = int(input())\n",
        "\n",
        "# Converting to int\n",
        "#number = int('5')\n",
        "\n",
        "# converting to str\n",
        "\n",
        "#str_number = str(number)\n",
        "\n",
        "print('This is a number' , number)"
      ]
    },
    {
      "cell_type": "markdown",
      "source": [
        "Data Type Conversion"
      ],
      "metadata": {
        "id": "BwCF1Ab63mvB"
      }
    },
    {
      "cell_type": "code",
      "source": [
        "# To str\n",
        "#str()\n",
        "\n",
        "# To int\n",
        "#int()\n",
        "\n",
        "# To List\n",
        "#list()"
      ],
      "metadata": {
        "id": "Z3JtWowG3rCZ"
      },
      "execution_count": null,
      "outputs": []
    },
    {
      "cell_type": "markdown",
      "source": [
        "While loop and Examples\n",
        "\n",
        "While loops execute until a true condition is false or a false condition is true"
      ],
      "metadata": {
        "id": "9Otmv1143rnq"
      }
    },
    {
      "cell_type": "code",
      "source": [
        "spam = 0\n",
        "\n",
        "if spam < 5:\n",
        "  print('Hello World')\n",
        "  spam = spam + 1\n",
        "\n",
        "\n",
        "while spam < 5:\n",
        "  print('Hello World')\n",
        "  spam = spam + 1\n"
      ],
      "metadata": {
        "colab": {
          "base_uri": "https://localhost:8080/"
        },
        "id": "_TGHIs_N3uMK",
        "outputId": "0d9bf223-4425-460a-8840-5642726c86da"
      },
      "execution_count": 20,
      "outputs": [
        {
          "output_type": "stream",
          "name": "stdout",
          "text": [
            "Hello World\n",
            "Hello World\n",
            "Hello World\n",
            "Hello World\n",
            "Hello World\n"
          ]
        }
      ]
    },
    {
      "cell_type": "markdown",
      "source": [
        "Break and Continue Statements\n",
        "\n",
        "Break statements allow us to exit our loop early or before the condition is met\n",
        "\n"
      ],
      "metadata": {
        "id": "YEnPmv-D31nn"
      }
    },
    {
      "cell_type": "code",
      "source": [
        "# Example of a break statement\n",
        "spam = 0\n",
        "\n",
        "while spam < 5:\n",
        "  print('Hello World')\n",
        "\n",
        "  print('The value of spam is', spam)\n",
        "\n",
        "  spam = spam + 1\n",
        "\n",
        "  if spam == 3:\n",
        "    break\n",
        "  "
      ],
      "metadata": {
        "colab": {
          "base_uri": "https://localhost:8080/"
        },
        "id": "SEKcCrqW331f",
        "outputId": "094f4b92-4918-4e9e-8f96-8b834b428c20"
      },
      "execution_count": 25,
      "outputs": [
        {
          "output_type": "stream",
          "name": "stdout",
          "text": [
            "Hello World\n",
            "The value of spam is 0\n",
            "Hello World\n",
            "The value of spam is 1\n",
            "Hello World\n",
            "The value of spam is 2\n"
          ]
        }
      ]
    },
    {
      "cell_type": "code",
      "source": [
        "# Example of a continue statement\n",
        "\n",
        "while True:\n",
        "\n",
        "  print('Who are you?: ')\n",
        "  user_name = input()\n",
        "\n",
        "  if user_name != 'Mykel':\n",
        "    continue\n",
        "  print('Welcome', user_name)\n",
        "  break"
      ],
      "metadata": {
        "colab": {
          "base_uri": "https://localhost:8080/"
        },
        "outputId": "e8ff77f7-ba86-4352-cdec-0665d2b70de0",
        "id": "CoKEDIK6Drbr"
      },
      "execution_count": 29,
      "outputs": [
        {
          "output_type": "stream",
          "name": "stdout",
          "text": [
            "Who are you?: \n",
            "Bob\n",
            "Who are you?: \n",
            "Dad\n",
            "Who are you?: \n",
            "Peter\n",
            "Who are you?: \n",
            "Mykel\n",
            "Welcome Mykel\n"
          ]
        }
      ]
    },
    {
      "cell_type": "markdown",
      "source": [
        "The range data type\n",
        "\n",
        "prints values from a starting index to an ending index exclusive of the ending index"
      ],
      "metadata": {
        "id": "Aqr-a0Z63ucy"
      }
    },
    {
      "cell_type": "code",
      "source": [
        "range(1,5)\n",
        "# 1, 2, 3, 4\n",
        "\n",
        "range(5)\n",
        "\n",
        "# 0, 1, 2, 3, 4\n",
        "\n",
        "range(8,9)\n",
        "\n",
        "# 8\n",
        "\n",
        "range(0,5,1)\n",
        "\n",
        "# 0, 1, 2, 3, 4\n",
        "\n",
        "range(0,5,2)\n",
        "\n",
        "# 0, 2, 4\n",
        "\n"
      ],
      "metadata": {
        "colab": {
          "base_uri": "https://localhost:8080/"
        },
        "id": "-DS8XyXk3x6J",
        "outputId": "b8be2446-6794-4be6-cffb-dd26c28feef9"
      },
      "execution_count": 31,
      "outputs": [
        {
          "output_type": "stream",
          "name": "stdout",
          "text": [
            "range(1, 5)\n"
          ]
        }
      ]
    },
    {
      "cell_type": "markdown",
      "source": [
        "For loops\n",
        "\n",
        "Runs a number of times based on the range or iterable condition provided"
      ],
      "metadata": {
        "id": "t4TG9jlT3yEh"
      }
    },
    {
      "cell_type": "code",
      "source": [
        "for number in range(0,5,2):\n",
        "  print(number)"
      ],
      "metadata": {
        "colab": {
          "base_uri": "https://localhost:8080/"
        },
        "id": "tmQS75J43zis",
        "outputId": "5951a54a-6fc5-4daf-88ab-5842527388ff"
      },
      "execution_count": 37,
      "outputs": [
        {
          "output_type": "stream",
          "name": "stdout",
          "text": [
            "0\n",
            "2\n",
            "4\n"
          ]
        }
      ]
    },
    {
      "cell_type": "code",
      "source": [
        "names_of_students = ['mykel', 'sam', 'jon']\n",
        "\n",
        "for name_of_student in names_of_students:\n",
        "  print(name_of_student)"
      ],
      "metadata": {
        "colab": {
          "base_uri": "https://localhost:8080/"
        },
        "id": "vvgHLUw6I_xR",
        "outputId": "ba248909-090f-49c9-ccc9-c064a1d7aa91"
      },
      "execution_count": 38,
      "outputs": [
        {
          "output_type": "stream",
          "name": "stdout",
          "text": [
            "mykel\n",
            "sam\n",
            "jon\n"
          ]
        }
      ]
    },
    {
      "cell_type": "code",
      "source": [
        "for i in range(5):\n",
        "  print('Hello World')"
      ],
      "metadata": {
        "colab": {
          "base_uri": "https://localhost:8080/"
        },
        "id": "wTtDG4ulJyiU",
        "outputId": "8a0a59fb-5f1a-40a2-e9cf-2c13dc7ad347"
      },
      "execution_count": 39,
      "outputs": [
        {
          "output_type": "stream",
          "name": "stdout",
          "text": [
            "Hello World\n",
            "Hello World\n",
            "Hello World\n",
            "Hello World\n",
            "Hello World\n"
          ]
        }
      ]
    },
    {
      "cell_type": "code",
      "source": [
        "for _ in range(5):\n",
        "  print('Hello World')"
      ],
      "metadata": {
        "colab": {
          "base_uri": "https://localhost:8080/"
        },
        "outputId": "7f1612f7-dcf9-4622-9aa9-9a81b3008779",
        "id": "ZSKRcmJsKOgO"
      },
      "execution_count": 41,
      "outputs": [
        {
          "output_type": "stream",
          "name": "stdout",
          "text": [
            "Hello World\n",
            "Hello World\n",
            "Hello World\n",
            "Hello World\n",
            "Hello World\n"
          ]
        }
      ]
    }
  ]
}