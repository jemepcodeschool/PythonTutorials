{
  "nbformat": 4,
  "nbformat_minor": 0,
  "metadata": {
    "colab": {
      "provenance": []
    },
    "kernelspec": {
      "name": "python3",
      "display_name": "Python 3"
    },
    "language_info": {
      "name": "python"
    }
  },
  "cells": [
    {
      "cell_type": "code",
      "execution_count": 2,
      "metadata": {
        "id": "3HG9HYA9fewd"
      },
      "outputs": [],
      "source": [
        "## Examples of variables\n",
        "\n",
        "name = \"Mykel\"\n",
        "\n",
        "car_model = \"Accord\""
      ]
    },
    {
      "cell_type": "code",
      "source": [
        "## Variable year is storing the value of year\n",
        "\n",
        "year = \"2022\" # String "
      ],
      "metadata": {
        "id": "QsPoz0wrgI2q"
      },
      "execution_count": 10,
      "outputs": []
    },
    {
      "cell_type": "code",
      "source": [
        "## Showed different types of variables\n",
        "\n",
        "country = \"united states\" # String \n",
        "\n",
        "num_of_students = 5 # Int \n",
        "\n",
        "num_of_teachers = 10 # int"
      ],
      "metadata": {
        "id": "LYkjtmPfgPZ2"
      },
      "execution_count": 4,
      "outputs": []
    },
    {
      "cell_type": "code",
      "source": [
        "# We showed how to store values in a variable\n",
        "\n",
        "num_of_teachers_students = num_of_students + num_of_teachers\n",
        "\n",
        "# print variables\n",
        "print(num_of_teachers_students)\n",
        "\n",
        "print(num_of_teachers)"
      ],
      "metadata": {
        "colab": {
          "base_uri": "https://localhost:8080/"
        },
        "id": "-zkGV2vpgtL4",
        "outputId": "3818e750-ca98-42f1-ec24-1a3110588f42"
      },
      "execution_count": 11,
      "outputs": [
        {
          "output_type": "stream",
          "name": "stdout",
          "text": [
            "15\n",
            "10\n"
          ]
        }
      ]
    },
    {
      "cell_type": "code",
      "source": [
        "# We can add variables of the same type\n",
        "\n",
        "year_country = country + year\n",
        "\n",
        "print(year_country)"
      ],
      "metadata": {
        "colab": {
          "base_uri": "https://localhost:8080/"
        },
        "id": "x2EmxAvkhKtM",
        "outputId": "60f9c3aa-4033-4dde-958f-e8d289c1a03a"
      },
      "execution_count": 12,
      "outputs": [
        {
          "output_type": "stream",
          "name": "stdout",
          "text": [
            "united states2022\n"
          ]
        }
      ]
    },
    {
      "cell_type": "code",
      "source": [
        "# Other types of variables\n",
        "\n",
        "price_of_soda = 1.99 # float or double\n",
        "price_of_water = 2 # int\n",
        "price_of_cookies = 2.00 # float\n",
        "\n",
        "print(price_of_water == price_of_cookies) # Value is the same across datatypes\n",
        "print(type(price_of_water) == type(price_of_cookies)) # Types are different"
      ],
      "metadata": {
        "colab": {
          "base_uri": "https://localhost:8080/"
        },
        "id": "bZQv8nBIh0KJ",
        "outputId": "ce212675-ba19-4d7b-d68c-6180581bc03d"
      },
      "execution_count": 9,
      "outputs": [
        {
          "output_type": "stream",
          "name": "stdout",
          "text": [
            "True\n",
            "False\n"
          ]
        }
      ]
    },
    {
      "cell_type": "code",
      "source": [
        "print(type(price_of_cookies))"
      ],
      "metadata": {
        "colab": {
          "base_uri": "https://localhost:8080/"
        },
        "id": "wWgWGiDPkmo-",
        "outputId": "7bcfb123-e9f8-4581-a9ba-8d422e2aaa25"
      },
      "execution_count": 14,
      "outputs": [
        {
          "output_type": "stream",
          "name": "stdout",
          "text": [
            "<class 'float'>\n"
          ]
        }
      ]
    },
    {
      "cell_type": "code",
      "source": [
        "# list datatype\n",
        "student_names = [\"Joe\" ,\"Sam\",  \"Mykel\"]"
      ],
      "metadata": {
        "id": "6GOJ3sMkk6Bn"
      },
      "execution_count": 25,
      "outputs": []
    },
    {
      "cell_type": "code",
      "source": [
        "print(student_names)"
      ],
      "metadata": {
        "colab": {
          "base_uri": "https://localhost:8080/"
        },
        "id": "8s6zQE3JmJak",
        "outputId": "f789a7aa-9d6a-4c00-b372-250c3c1e05aa"
      },
      "execution_count": 26,
      "outputs": [
        {
          "output_type": "stream",
          "name": "stdout",
          "text": [
            "['Joe', 'Sam', 'Mykel']\n"
          ]
        }
      ]
    },
    {
      "cell_type": "code",
      "source": [
        "# Declared an example of a list data type\n",
        "\n",
        "brands_of_laptops = [\"Apple\", \"Microsoft\", \"HP\"]\n",
        "\n",
        "print(brands_of_laptops)"
      ],
      "metadata": {
        "colab": {
          "base_uri": "https://localhost:8080/"
        },
        "id": "9nDan7W9mgIK",
        "outputId": "cd5f1d8c-1216-4b0f-d1a8-e5a6b8f7b419"
      },
      "execution_count": 18,
      "outputs": [
        {
          "output_type": "stream",
          "name": "stdout",
          "text": [
            "['Apple', 'Microsoft', 'HP']\n"
          ]
        }
      ]
    },
    {
      "cell_type": "code",
      "source": [
        "# We showed that list variables can contain different datatype of variables and also variables\n",
        "\n",
        "alpha_numeric = [\"A\" ,\"B\" ,\"C\", 1, 2, 3, 4.0, brands_of_laptops]\n",
        "\n",
        "print(alpha_numeric)"
      ],
      "metadata": {
        "colab": {
          "base_uri": "https://localhost:8080/"
        },
        "id": "qscciw_PnlV6",
        "outputId": "fdbe0655-0577-4182-dc73-eea017238419"
      },
      "execution_count": 29,
      "outputs": [
        {
          "output_type": "stream",
          "name": "stdout",
          "text": [
            "['A', 'B', 'C', 1, 2, 3, 4.0, ['Apple', 'Microsoft', 'HP']]\n"
          ]
        }
      ]
    },
    {
      "cell_type": "code",
      "source": [
        "# Operators\n",
        "\n",
        "\"+\", \"-\", \"*\", \"/\", \"%\", \"^\""
      ],
      "metadata": {
        "id": "jcN3Nt4yprsM"
      },
      "execution_count": 30,
      "outputs": []
    },
    {
      "cell_type": "code",
      "source": [
        "# Addition Examples\n",
        "\n",
        "# Example of int\n",
        "number_of_cars = 6\n",
        "number_of_trucks = 10\n",
        "\n",
        "# Uncomment to display value\n",
        "#print(number_of_cars + number_of_trucks)\n",
        "\n",
        "# Example of strings\n",
        "first_name = \"Mykel\"\n",
        "last_name = \"Doe\"\n",
        "\n",
        "# Uncomment to display value\n",
        "#print(first_name + \" \" + last_name)\n",
        "\n",
        "# Example of floats\n",
        "price_of_car = 19999.23\n",
        "price_of_registration = 200.45\n",
        "\n",
        "# Uncomment to display value\n",
        "#total_cost = price_of_car + price_of_registration \n",
        "\n",
        "#print(total_cost)\n",
        "\n",
        "# Example of list\n",
        "names_students = [\"mykel\", \"sam\", \"joe\"]\n",
        "names_of_teachers = [\"bob\", \"john\", \"alice\"]\n",
        "\n",
        "all_students_teachers = names_of_teachers + names_students\n",
        "\n",
        "print(all_students_teachers)"
      ],
      "metadata": {
        "colab": {
          "base_uri": "https://localhost:8080/"
        },
        "id": "VvEikAWgqDL6",
        "outputId": "025f2ed0-af68-4c56-d3f3-4b395ee7fbd4"
      },
      "execution_count": 36,
      "outputs": [
        {
          "output_type": "stream",
          "name": "stdout",
          "text": [
            "['bob', 'john', 'alice', 'mykel', 'sam', 'joe']\n"
          ]
        }
      ]
    },
    {
      "cell_type": "code",
      "source": [],
      "metadata": {
        "id": "BmobczdprIk2"
      },
      "execution_count": null,
      "outputs": []
    },
    {
      "cell_type": "code",
      "source": [
        "# Multiplication Examples\n",
        "\n",
        "# Example of int\n",
        "number_of_cars = 6\n",
        "number_of_trucks = 10\n",
        "\n",
        "# Uncomment to display value\n",
        "#print(number_of_cars * number_of_trucks)\n",
        "\n",
        "# Example of strings\n",
        "first_name = \"Mykel\"\n",
        "last_name = \"Doe\"\n",
        "value = 5 # Value is an int\n",
        "\n",
        "# Uncomment to display value\n",
        "#print(first_name * value)\n",
        "\n",
        "# Example of floats\n",
        "price_of_car = 19999.23\n",
        "price_of_registration = 200.45\n",
        "\n",
        "total_cost = price_of_car * price_of_registration \n",
        "\n",
        "# Uncomment to display value\n",
        "#print(total_cost)\n",
        "\n",
        "# Example of list\n",
        "names_students = [\"mykel\", \"sam\", \"joe\"]\n",
        "names_of_teachers = [\"bob\", \"john\", \"alice\"]\n",
        "value = 5\n",
        "\n",
        "all_students_teachers = names_of_teachers * value\n",
        "\n",
        "print(all_students_teachers)"
      ],
      "metadata": {
        "colab": {
          "base_uri": "https://localhost:8080/"
        },
        "outputId": "bc69ca34-0a0b-46b7-cb18-36c08f106996",
        "id": "hsS7bPMjsdrP"
      },
      "execution_count": 43,
      "outputs": [
        {
          "output_type": "stream",
          "name": "stdout",
          "text": [
            "['bob', 'john', 'alice', 'bob', 'john', 'alice', 'bob', 'john', 'alice', 'bob', 'john', 'alice', 'bob', 'john', 'alice']\n"
          ]
        }
      ]
    },
    {
      "cell_type": "code",
      "source": [],
      "metadata": {
        "id": "5O7uJ4u4uGJo"
      },
      "execution_count": null,
      "outputs": []
    }
  ]
}